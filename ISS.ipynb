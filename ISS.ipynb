{
 "cells": [
  {
   "cell_type": "markdown",
   "id": "actual-short",
   "metadata": {},
   "source": [
    "* https://en.wikipedia.org/wiki/International_Space_Station\n",
    "* ISS altitude is ~420 km\n",
    "* ISS size is ~73 m x ~109 m"
   ]
  },
  {
   "cell_type": "markdown",
   "id": "fantastic-attribute",
   "metadata": {},
   "source": [
    "* https://en.wikipedia.org/wiki/Naked_eye\n",
    "* https://en.wikipedia.org/wiki/Visual_acuity\n",
    "* human pupil diameter ~4mm\n",
    "* 20x80 binoculars = 20x magnification and 80mm aperture"
   ]
  },
  {
   "cell_type": "markdown",
   "id": "statutory-companion",
   "metadata": {},
   "source": [
    "* https://en.wikipedia.org/wiki/Astronomical_seeing\n",
    "* https://en.wikipedia.org/wiki/Angular_resolution#The_Rayleigh_criterion\n",
    "\n",
    "$\\theta = 1.22 \\frac{\\lambda}{D}$"
   ]
  },
  {
   "cell_type": "code",
   "execution_count": 1,
   "id": "sophisticated-endorsement",
   "metadata": {},
   "outputs": [],
   "source": [
    "import numpy as np"
   ]
  },
  {
   "cell_type": "code",
   "execution_count": 4,
   "id": "viral-enterprise",
   "metadata": {},
   "outputs": [],
   "source": [
    "def angres(wavelength, diameter):\n",
    "    return 1.22*wavelength/diameter"
   ]
  },
  {
   "cell_type": "markdown",
   "id": "introductory-thailand",
   "metadata": {},
   "source": [
    " * wavelength of optical light ~500 nm\n",
    " * diameter of human eye pupil ~4 mm\n",
    " * diameter of binocular aperture ~80 mm"
   ]
  },
  {
   "cell_type": "code",
   "execution_count": 5,
   "id": "chicken-following",
   "metadata": {},
   "outputs": [],
   "source": [
    "l = 500.0e-9\n",
    "d_eye = 4.0e-3\n",
    "d_binoculars = 80.0e-3"
   ]
  },
  {
   "cell_type": "markdown",
   "id": "related-suggestion",
   "metadata": {},
   "source": [
    "Angular resolution of human eyes is ~30 arcseconds, which agrees with a google search."
   ]
  },
  {
   "cell_type": "code",
   "execution_count": 7,
   "id": "respiratory-decimal",
   "metadata": {},
   "outputs": [
    {
     "data": {
      "text/plain": [
       "31.455382952682193"
      ]
     },
     "execution_count": 7,
     "metadata": {},
     "output_type": "execute_result"
    }
   ],
   "source": [
    "angres(l, d_eye)*180./np.pi*3600"
   ]
  },
  {
   "cell_type": "markdown",
   "id": "painted-treasurer",
   "metadata": {},
   "source": [
    "Angular resolution of 80 mm binocular apertures is ~1.5 arseconds. This is near the atmospheric seeing limit, so larger binocular lenses will not help much in terms of resolution. This also agrees with some web info about space telescopes that indicate that 10-20 cm telescopes saturate atmospheric seeing limits from the ground."
   ]
  },
  {
   "cell_type": "code",
   "execution_count": 8,
   "id": "isolated-picnic",
   "metadata": {
    "scrolled": true
   },
   "outputs": [
    {
     "data": {
      "text/plain": [
       "1.57276914763411"
      ]
     },
     "execution_count": 8,
     "metadata": {},
     "output_type": "execute_result"
    }
   ],
   "source": [
    "angres(l, d_binoculars)*180./np.pi*3600"
   ]
  },
  {
   "cell_type": "markdown",
   "id": "adaptive-causing",
   "metadata": {},
   "source": [
    "I'm pretty sure I'm in the small angle limit where $tan(\\theta) \\approx \\theta$"
   ]
  },
  {
   "cell_type": "code",
   "execution_count": 15,
   "id": "interim-garage",
   "metadata": {},
   "outputs": [
    {
     "data": {
      "text/plain": [
       "1.0000000188964477"
      ]
     },
     "execution_count": 15,
     "metadata": {},
     "output_type": "execute_result"
    }
   ],
   "source": [
    "np.tan(100.0/420.0e3) / (100.0/420.0e3)"
   ]
  },
  {
   "cell_type": "markdown",
   "id": "sunrise-athletics",
   "metadata": {},
   "source": [
    "So how big is 100 m at 420 km in arcseconds?"
   ]
  },
  {
   "cell_type": "code",
   "execution_count": 10,
   "id": "trying-river",
   "metadata": {},
   "outputs": [
    {
     "data": {
      "text/plain": [
       "49.11066815407057"
      ]
     },
     "execution_count": 10,
     "metadata": {},
     "output_type": "execute_result"
    }
   ],
   "source": [
    "100.0/420.0e3*180./np.pi*3600"
   ]
  },
  {
   "cell_type": "markdown",
   "id": "competitive-campus",
   "metadata": {},
   "source": [
    "What's the physical resolution (in meters) of the human eye at 420 km?"
   ]
  },
  {
   "cell_type": "code",
   "execution_count": 16,
   "id": "electric-youth",
   "metadata": {},
   "outputs": [
    {
     "data": {
      "text/plain": [
       "61.086523819801535"
      ]
     },
     "execution_count": 16,
     "metadata": {},
     "output_type": "execute_result"
    }
   ],
   "source": [
    "30.0/3600.0*np.pi/180.0*420.0e3"
   ]
  },
  {
   "cell_type": "markdown",
   "id": "hairy-algorithm",
   "metadata": {},
   "source": [
    "What's the physical resolution (in meters) of 20x80 binoculars at 420 km?"
   ]
  },
  {
   "cell_type": "code",
   "execution_count": 17,
   "id": "about-pharmaceutical",
   "metadata": {},
   "outputs": [
    {
     "data": {
      "text/plain": [
       "3.0543261909900767"
      ]
     },
     "execution_count": 17,
     "metadata": {},
     "output_type": "execute_result"
    }
   ],
   "source": [
    "1.5/3600.0*np.pi/180.0*420.0e3"
   ]
  },
  {
   "cell_type": "code",
   "execution_count": null,
   "id": "integral-cabin",
   "metadata": {},
   "outputs": [],
   "source": []
  }
 ],
 "metadata": {
  "kernelspec": {
   "display_name": "Python 3",
   "language": "python",
   "name": "python3"
  },
  "language_info": {
   "codemirror_mode": {
    "name": "ipython",
    "version": 3
   },
   "file_extension": ".py",
   "mimetype": "text/x-python",
   "name": "python",
   "nbconvert_exporter": "python",
   "pygments_lexer": "ipython3",
   "version": "3.8.5"
  }
 },
 "nbformat": 4,
 "nbformat_minor": 5
}
